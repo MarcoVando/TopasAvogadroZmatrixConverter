{
 "cells": [
  {
   "cell_type": "code",
   "execution_count": 23,
   "metadata": {},
   "outputs": [],
   "source": [
    "with open('untitled.gzmat', 'r') as f:\n",
    "    lines = f.readlines()\n",
    "start_matrix = 5"
   ]
  },
  {
   "cell_type": "code",
   "execution_count": 24,
   "metadata": {},
   "outputs": [
    {
     "name": "stdout",
     "output_type": "stream",
     "text": [
      "['r2', ' 1.4544']\n",
      "['r3', ' 1.3206']\n",
      "['a3', '  64.85']\n",
      "['r4', ' 1.3227']\n",
      "['a4', ' 125.69']\n",
      "['d4', '   3.70']\n",
      "['r5', ' 1.6179']\n",
      "['a5', ' 159.51']\n",
      "['d5', ' 138.43']\n",
      "['r6', ' 1.5062']\n",
      "['a6', '  61.29']\n",
      "['d6', '  42.30']\n",
      "['r7', ' 1.3531']\n",
      "['a7', '  68.41']\n",
      "['d7', ' 183.19']\n",
      "['r8', ' 1.4903']\n",
      "['a8', ' 171.16']\n",
      "['d8', '  20.32']\n",
      "['r9', ' 1.3508']\n",
      "['a9', ' 120.05']\n",
      "['d9', ' 341.56']\n",
      "['r10', ' 0.9678']\n",
      "['a10', ' 121.55']\n",
      "['d10', ' 180.00']\n",
      "['r11', ' 1.2232']\n",
      "['a11', ' 120.66']\n",
      "['d11', ' 161.56']\n",
      "['r12', ' 3.8527']\n",
      "['a12', '  35.27']\n",
      "['d12', ' 358.14']\n",
      "['r13', ' 1.3508']\n",
      "['a13', ' 120.82']\n",
      "['d13', ' 131.13']\n",
      "['r14', ' 0.9677']\n",
      "['a14', ' 121.47']\n",
      "['d14', ' 180.00']\n",
      "['r15', ' 1.2208']\n",
      "['a15', ' 119.18']\n",
      "['d15', ' 311.13']\n",
      "['r16', ' 1.4704']\n",
      "['a16', ' 113.25']\n",
      "['d16', ' 176.43']\n",
      "['r17', ' 1.3501']\n",
      "['a17', ' 120.56']\n",
      "['d17', ' 171.01']\n",
      "['r18', ' 0.9677']\n",
      "['a18', ' 121.46']\n",
      "['d18', ' 180.01']\n",
      "['r19', ' 1.2208']\n",
      "['a19', ' 119.34']\n",
      "['d19', ' 351.01']\n",
      "['r20', ' 1.0862']\n",
      "['a20', ' 120.29']\n",
      "['d20', ' 182.99']\n",
      "['r21', ' 2.2333']\n",
      "['a21', '  78.32']\n",
      "['d21', '   1.51']\n",
      "['r22', ' 1.4894']\n",
      "['a22', ' 173.05']\n",
      "['d22', ' 192.39']\n",
      "['']\n"
     ]
    }
   ],
   "source": [
    "variables = {}\n",
    "for line in lines[28:]:  # assuming variables start from line 29\n",
    "    print(line.strip().split('='))\n",
    "    line_split= line.strip().split('=')\n",
    "    if len(line_split) == 2 and line_split[0] != '':\n",
    "        var, value = line_split\n",
    "        variables[var] = value"
   ]
  },
  {
   "cell_type": "code",
   "execution_count": 25,
   "metadata": {},
   "outputs": [
    {
     "data": {
      "text/plain": [
       "27"
      ]
     },
     "execution_count": 25,
     "metadata": {},
     "output_type": "execute_result"
    }
   ],
   "source": [
    "for i, line in enumerate(lines):\n",
    "    if 'Variables:' in line:\n",
    "        end_matrix= i\n",
    "end_matrix"
   ]
  },
  {
   "cell_type": "code",
   "execution_count": 37,
   "metadata": {},
   "outputs": [
    {
     "name": "stdout",
     "output_type": "stream",
     "text": [
      "line split ['B']\n",
      "dict atoms {'1': 'B1'}\n",
      "new line B1\n",
      "line split ['C', '1', 'r2']\n",
      "dict atoms {'1': 'B1', '2': 'C2'}\n",
      "label, ref, dist: C 1 r2\n",
      "new_label, dict_atoms[ref], variables[dist]: C2 B1  1.4544\n",
      "new line C2 B1  1.4544\n",
      "line split ['C', '1', 'r3', '2', 'a3']\n",
      "dict atoms {'1': 'B1', '2': 'C2', '3': 'C3'}\n",
      "new line C3 B1  1.3206 C2   64.85\n",
      "line split ['C', '1', 'r4', '2', 'a4', '3', 'd4']\n",
      "dict atoms {'1': 'B1', '2': 'C2', '3': 'C3', '4': 'C4'}\n",
      "new line C4 B1  1.3227 C2  125.69 C3    3.70\n",
      "line split ['C', '1', 'r5', '2', 'a5', '3', 'd5']\n",
      "dict atoms {'1': 'B1', '2': 'C2', '3': 'C3', '4': 'C4', '5': 'C5'}\n",
      "new line C5 B1  1.6179 C2  159.51 C3  138.43\n",
      "line split ['C', '5', 'r6', '1', 'a6', '2', 'd6']\n",
      "dict atoms {'1': 'B1', '2': 'C2', '3': 'C3', '4': 'C4', '5': 'C5', '6': 'C6'}\n",
      "new line C6 C5  1.5062 B1   61.29 C2   42.30\n",
      "line split ['C', '2', 'r7', '1', 'a7', '3', 'd7']\n",
      "dict atoms {'1': 'B1', '2': 'C2', '3': 'C3', '4': 'C4', '5': 'C5', '6': 'C6', '7': 'C7'}\n",
      "new line C7 C2  1.3531 B1   68.41 C3  183.19\n",
      "line split ['C', '2', 'r8', '1', 'a8', '3', 'd8']\n",
      "dict atoms {'1': 'B1', '2': 'C2', '3': 'C3', '4': 'C4', '5': 'C5', '6': 'C6', '7': 'C7', '8': 'C8'}\n",
      "new line C8 C2  1.4903 B1  171.16 C3   20.32\n",
      "line split ['O', '8', 'r9', '2', 'a9', '1', 'd9']\n",
      "dict atoms {'1': 'B1', '2': 'C2', '3': 'C3', '4': 'C4', '5': 'C5', '6': 'C6', '7': 'C7', '8': 'C8', '9': 'O9'}\n",
      "new line O9 C8  1.3508 C2  120.05 B1  341.56\n",
      "line split ['H', '9', 'r10', '8', 'a10', '2', 'd10']\n",
      "dict atoms {'1': 'B1', '2': 'C2', '3': 'C3', '4': 'C4', '5': 'C5', '6': 'C6', '7': 'C7', '8': 'C8', '9': 'O9', '10': 'H10'}\n",
      "new line H10 O9  0.9678 C8  121.55 C2  180.00\n",
      "line split ['O', '8', 'r11', '2', 'a11', '1', 'd11']\n",
      "dict atoms {'1': 'B1', '2': 'C2', '3': 'C3', '4': 'C4', '5': 'C5', '6': 'C6', '7': 'C7', '8': 'C8', '9': 'O9', '10': 'H10', '11': 'O11'}\n",
      "new line O11 C8  1.2232 C2  120.66 B1  161.56\n",
      "line split ['C', '2', 'r12', '1', 'a12', '3', 'd12']\n",
      "dict atoms {'1': 'B1', '2': 'C2', '3': 'C3', '4': 'C4', '5': 'C5', '6': 'C6', '7': 'C7', '8': 'C8', '9': 'O9', '10': 'H10', '11': 'O11', '12': 'C12'}\n",
      "new line C12 C2  3.8527 B1   35.27 C3  358.14\n",
      "line split ['O', '12', 'r13', '4', 'a13', '1', 'd13']\n",
      "dict atoms {'1': 'B1', '2': 'C2', '3': 'C3', '4': 'C4', '5': 'C5', '6': 'C6', '7': 'C7', '8': 'C8', '9': 'O9', '10': 'H10', '11': 'O11', '12': 'C12', '13': 'O13'}\n",
      "new line O13 C12  1.3508 C4  120.82 B1  131.13\n",
      "line split ['H', '13', 'r14', '12', 'a14', '4', 'd14']\n",
      "dict atoms {'1': 'B1', '2': 'C2', '3': 'C3', '4': 'C4', '5': 'C5', '6': 'C6', '7': 'C7', '8': 'C8', '9': 'O9', '10': 'H10', '11': 'O11', '12': 'C12', '13': 'O13', '14': 'H14'}\n",
      "new line H14 O13  0.9677 C12  121.47 C4  180.00\n",
      "line split ['O', '12', 'r15', '4', 'a15', '1', 'd15']\n",
      "dict atoms {'1': 'B1', '2': 'C2', '3': 'C3', '4': 'C4', '5': 'C5', '6': 'C6', '7': 'C7', '8': 'C8', '9': 'O9', '10': 'H10', '11': 'O11', '12': 'C12', '13': 'O13', '14': 'H14', '15': 'O15'}\n",
      "new line O15 C12  1.2208 C4  119.18 B1  311.13\n",
      "line split ['C', '6', 'r16', '5', 'a16', '1', 'd16']\n",
      "dict atoms {'1': 'B1', '2': 'C2', '3': 'C3', '4': 'C4', '5': 'C5', '6': 'C6', '7': 'C7', '8': 'C8', '9': 'O9', '10': 'H10', '11': 'O11', '12': 'C12', '13': 'O13', '14': 'H14', '15': 'O15', '16': 'C16'}\n",
      "new line C16 C6  1.4704 C5  113.25 B1  176.43\n",
      "line split ['O', '16', 'r17', '6', 'a17', '5', 'd17']\n",
      "dict atoms {'1': 'B1', '2': 'C2', '3': 'C3', '4': 'C4', '5': 'C5', '6': 'C6', '7': 'C7', '8': 'C8', '9': 'O9', '10': 'H10', '11': 'O11', '12': 'C12', '13': 'O13', '14': 'H14', '15': 'O15', '16': 'C16', '17': 'O17'}\n",
      "new line O17 C16  1.3501 C6  120.56 C5  171.01\n",
      "line split ['H', '17', 'r18', '16', 'a18', '6', 'd18']\n",
      "dict atoms {'1': 'B1', '2': 'C2', '3': 'C3', '4': 'C4', '5': 'C5', '6': 'C6', '7': 'C7', '8': 'C8', '9': 'O9', '10': 'H10', '11': 'O11', '12': 'C12', '13': 'O13', '14': 'H14', '15': 'O15', '16': 'C16', '17': 'O17', '18': 'H18'}\n",
      "new line H18 O17  0.9677 C16  121.46 C6  180.01\n",
      "line split ['O', '16', 'r19', '6', 'a19', '5', 'd19']\n",
      "dict atoms {'1': 'B1', '2': 'C2', '3': 'C3', '4': 'C4', '5': 'C5', '6': 'C6', '7': 'C7', '8': 'C8', '9': 'O9', '10': 'H10', '11': 'O11', '12': 'C12', '13': 'O13', '14': 'H14', '15': 'O15', '16': 'C16', '17': 'O17', '18': 'H18', '19': 'O19'}\n",
      "new line O19 C16  1.2208 C6  119.34 C5  351.01\n",
      "line split ['H', '7', 'r20', '2', 'a20', '1', 'd20']\n",
      "dict atoms {'1': 'B1', '2': 'C2', '3': 'C3', '4': 'C4', '5': 'C5', '6': 'C6', '7': 'C7', '8': 'C8', '9': 'O9', '10': 'H10', '11': 'O11', '12': 'C12', '13': 'O13', '14': 'H14', '15': 'O15', '16': 'C16', '17': 'O17', '18': 'H18', '19': 'O19', '20': 'H20'}\n",
      "new line H20 C7  1.0862 C2  120.29 B1  182.99\n",
      "line split ['H', '2', 'r21', '1', 'a21', '3', 'd21']\n",
      "dict atoms {'1': 'B1', '2': 'C2', '3': 'C3', '4': 'C4', '5': 'C5', '6': 'C6', '7': 'C7', '8': 'C8', '9': 'O9', '10': 'H10', '11': 'O11', '12': 'C12', '13': 'O13', '14': 'H14', '15': 'O15', '16': 'C16', '17': 'O17', '18': 'H18', '19': 'O19', '20': 'H20', '21': 'H21'}\n",
      "new line H21 C2  2.2333 B1   78.32 C3    1.51\n",
      "line split ['H', '5', 'r22', '1', 'a22', '2', 'd22']\n",
      "dict atoms {'1': 'B1', '2': 'C2', '3': 'C3', '4': 'C4', '5': 'C5', '6': 'C6', '7': 'C7', '8': 'C8', '9': 'O9', '10': 'H10', '11': 'O11', '12': 'C12', '13': 'O13', '14': 'H14', '15': 'O15', '16': 'C16', '17': 'O17', '18': 'H18', '19': 'O19', '20': 'H20', '21': 'H21', '22': 'H22'}\n",
      "new line H22 C5  1.4894 B1  173.05 C2  192.39\n"
     ]
    }
   ],
   "source": [
    "z_matrix_lines = lines[start_matrix:end_matrix]\n",
    "counter = 0\n",
    "dict_atoms = {}\n",
    "z_matrix_lines_converted = []\n",
    "for i, line in enumerate(z_matrix_lines,1):\n",
    "    counter += 1\n",
    "    line_split = line.strip().split(' ')\n",
    "    line_split = [x for x in line_split if x != '']\n",
    "    print(\"line split\", line_split)\n",
    "\n",
    "    label = line_split[0]\n",
    "    new_label = label+str(counter)\n",
    "    dict_atoms[str(i)] =  new_label\n",
    "\n",
    "    print(\"dict atoms\", dict_atoms)\n",
    "\n",
    "    if len(line_split) == 7:\n",
    "        label, ref, dist, ref_ang, ang, ref_dihed, dihed = line_split\n",
    "        new_line = f'{new_label} {dict_atoms[ref]} {variables[dist]} {dict_atoms[ref_ang]} {variables[ang]} {dict_atoms[ref_dihed]} {variables[dihed]}'\n",
    "    elif len(line_split) == 5:\n",
    "        label, ref, dist, ref_ang, ang = line_split\n",
    "        new_line = f'{new_label} {dict_atoms[ref]} {variables[dist]} {dict_atoms[ref_ang]} {variables[ang]}'\n",
    "    elif len(line_split) == 3:\n",
    "        label, ref, dist = line_split\n",
    "        print(\"label, ref, dist:\", label, ref, dist)\n",
    "        print(\"new_label, dict_atoms[ref], variables[dist]:\", new_label, dict_atoms[ref], variables[dist])\n",
    "        new_line = f'{new_label} {dict_atoms[ref]} {variables[dist]}'\n",
    "    else:\n",
    "        label = line_split\n",
    "        new_line = new_label\n",
    "    print(\"new line\", new_line)\n",
    "    z_matrix_lines_converted.append(new_line)"
   ]
  },
  {
   "cell_type": "code",
   "execution_count": 39,
   "metadata": {},
   "outputs": [],
   "source": [
    "with open('z_matrix_conv.txt', 'w+') as f:\n",
    "    f.write('\\n'.join(z_matrix_lines_converted))"
   ]
  },
  {
   "cell_type": "code",
   "execution_count": null,
   "metadata": {},
   "outputs": [],
   "source": []
  }
 ],
 "metadata": {
  "kernelspec": {
   "display_name": "Python 3",
   "language": "python",
   "name": "python3"
  },
  "language_info": {
   "codemirror_mode": {
    "name": "ipython",
    "version": 3
   },
   "file_extension": ".py",
   "mimetype": "text/x-python",
   "name": "python",
   "nbconvert_exporter": "python",
   "pygments_lexer": "ipython3",
   "version": "3.9.19"
  }
 },
 "nbformat": 4,
 "nbformat_minor": 2
}
